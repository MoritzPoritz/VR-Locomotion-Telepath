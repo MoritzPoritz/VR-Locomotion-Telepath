{
 "cells": [
  {
   "cell_type": "code",
   "execution_count": 54,
   "id": "a80f45f3",
   "metadata": {},
   "outputs": [],
   "source": [
    "import numpy as np\n",
    "import pandas as pd\n",
    "import matplotlib.pyplot as plt \n",
    "from scipy.stats import shapiro\n",
    "from scipy.stats import friedmanchisquare\n",
    "from scipy.stats import ttest_rel"
   ]
  },
  {
   "cell_type": "markdown",
   "id": "1e800a1e",
   "metadata": {},
   "source": [
    "# SUS Presence Results\n",
    "\n",
    "## Hypothese\n",
    "Mindestens eine der Techniken erzeugt ein höheres Präsenzempfinden, als die anderen beiden. \n",
    "\n",
    "## Null-Hyptohese\n",
    "Keine der Techniken erzeugt ein höheres Präsenzempfinden."
   ]
  },
  {
   "cell_type": "code",
   "execution_count": 2,
   "id": "d8e2c850",
   "metadata": {},
   "outputs": [],
   "source": [
    "presence_df = pd.read_csv(\"./Vorbereitete Daten/SUS Presence.csv\")"
   ]
  },
  {
   "cell_type": "code",
   "execution_count": 3,
   "id": "b0b84580",
   "metadata": {},
   "outputs": [
    {
     "data": {
      "text/html": [
       "<div>\n",
       "<style scoped>\n",
       "    .dataframe tbody tr th:only-of-type {\n",
       "        vertical-align: middle;\n",
       "    }\n",
       "\n",
       "    .dataframe tbody tr th {\n",
       "        vertical-align: top;\n",
       "    }\n",
       "\n",
       "    .dataframe thead th {\n",
       "        text-align: right;\n",
       "    }\n",
       "</style>\n",
       "<table border=\"1\" class=\"dataframe\">\n",
       "  <thead>\n",
       "    <tr style=\"text-align: right;\">\n",
       "      <th></th>\n",
       "      <th>Person</th>\n",
       "      <th>Condition</th>\n",
       "      <th>SUS</th>\n",
       "    </tr>\n",
       "  </thead>\n",
       "  <tbody>\n",
       "    <tr>\n",
       "      <th>0</th>\n",
       "      <td>1</td>\n",
       "      <td>0</td>\n",
       "      <td>0.166667</td>\n",
       "    </tr>\n",
       "    <tr>\n",
       "      <th>1</th>\n",
       "      <td>2</td>\n",
       "      <td>0</td>\n",
       "      <td>0.166667</td>\n",
       "    </tr>\n",
       "    <tr>\n",
       "      <th>2</th>\n",
       "      <td>3</td>\n",
       "      <td>0</td>\n",
       "      <td>0.000000</td>\n",
       "    </tr>\n",
       "    <tr>\n",
       "      <th>3</th>\n",
       "      <td>4</td>\n",
       "      <td>0</td>\n",
       "      <td>0.833333</td>\n",
       "    </tr>\n",
       "    <tr>\n",
       "      <th>4</th>\n",
       "      <td>5</td>\n",
       "      <td>0</td>\n",
       "      <td>0.000000</td>\n",
       "    </tr>\n",
       "  </tbody>\n",
       "</table>\n",
       "</div>"
      ],
      "text/plain": [
       "   Person  Condition       SUS\n",
       "0       1          0  0.166667\n",
       "1       2          0  0.166667\n",
       "2       3          0  0.000000\n",
       "3       4          0  0.833333\n",
       "4       5          0  0.000000"
      ]
     },
     "execution_count": 3,
     "metadata": {},
     "output_type": "execute_result"
    }
   ],
   "source": [
    "presence_df.head()"
   ]
  },
  {
   "cell_type": "markdown",
   "id": "8eae3e22",
   "metadata": {},
   "source": [
    "Prüfen, ob Daten normalverteilt sind"
   ]
  },
  {
   "cell_type": "code",
   "execution_count": 4,
   "id": "976c359a",
   "metadata": {},
   "outputs": [
    {
     "data": {
      "text/plain": [
       "ShapiroResult(statistic=0.4348118305206299, pvalue=1.25030583109087e-10)"
      ]
     },
     "execution_count": 4,
     "metadata": {},
     "output_type": "execute_result"
    }
   ],
   "source": [
    "shapiro(presence_df['SUS'].values)"
   ]
  },
  {
   "cell_type": "markdown",
   "id": "10187a1c",
   "metadata": {},
   "source": [
    "Da der p-Wert kleiner als 0.05 ist, sind die Daten nicht normalverteilt. Dementsprechend, wählen wir den Friedmann Test"
   ]
  },
  {
   "cell_type": "code",
   "execution_count": 5,
   "id": "37c4bb5a",
   "metadata": {},
   "outputs": [
    {
     "data": {
      "image/png": "[encoded data removed]",
      "text/plain": [
       "<Figure size 432x288 with 1 Axes>"
      ]
     },
     "metadata": {
      "needs_background": "light"
     },
     "output_type": "display_data"
    }
   ],
   "source": [
    "plt.hist(presence_df['SUS'])\n",
    "plt.title(\"Histogram of SUS Presence Score Data\")\n",
    "plt.show()"
   ]
  },
  {
   "cell_type": "markdown",
   "id": "647fcfe5",
   "metadata": {},
   "source": [
    "## Friedmann-Test"
   ]
  },
  {
   "cell_type": "code",
   "execution_count": 66,
   "id": "6a74ef2b",
   "metadata": {},
   "outputs": [
    {
     "data": {
      "text/plain": [
       "FriedmanchisquareResult(statistic=-101.2100617828773, pvalue=1.0)"
      ]
     },
     "execution_count": 66,
     "metadata": {},
     "output_type": "execute_result"
    }
   ],
   "source": [
    "teleport_throw_df = presence_df.loc[presence_df['Condition'] == 0]\n",
    "index_finger_df = presence_df.loc[presence_df['Condition'] == 1]\n",
    "telepath_df = presence_df.loc[presence_df['Condition'] == 2]\n",
    "friedmanchisquare(teleport_throw_df.values, index_finger_df.values, telepath_df.values)"
   ]
  },
  {
   "cell_type": "code",
   "execution_count": 68,
   "id": "64ad0a7a",
   "metadata": {},
   "outputs": [
    {
     "data": {
      "text/plain": [
       "FriedmanchisquareResult(statistic=0.5454545454545455, pvalue=0.7613003866968736)"
      ]
     },
     "execution_count": 68,
     "metadata": {},
     "output_type": "execute_result"
    }
   ],
   "source": [
    "friedmanchisquare(teleport_throw_df['SUS'], index_finger_df['SUS'], telepath_df['SUS'])"
   ]
  },
  {
   "cell_type": "markdown",
   "id": "9ee4c0b8",
   "metadata": {},
   "source": [
    "Da der p-Wert größer ist als 0.05 können wir kein signifikanten unterschied zwischen dem Präsenzempfinden der drei Techniken feststellen und die Null-Hypothese somit nicht ablehnen."
   ]
  },
  {
   "cell_type": "markdown",
   "id": "0f6e4855",
   "metadata": {},
   "source": [
    "## Paired T-Test"
   ]
  },
  {
   "cell_type": "markdown",
   "id": "9e111e75",
   "metadata": {},
   "source": [
    "Conition 0 & 1"
   ]
  },
  {
   "cell_type": "code",
   "execution_count": 60,
   "id": "e9b7ba51",
   "metadata": {},
   "outputs": [
    {
     "data": {
      "text/plain": [
       "Ttest_relResult(statistic=0.9590268201252887, pvalue=0.3581504855953057)"
      ]
     },
     "execution_count": 60,
     "metadata": {},
     "output_type": "execute_result"
    }
   ],
   "source": [
    "ttest_rel(presence_df[presence_df['Condition'] == 0]['SUS'], presence_df[presence_df['Condition'] == 1]['SUS'])\n"
   ]
  },
  {
   "cell_type": "markdown",
   "id": "bf751320",
   "metadata": {},
   "source": [
    "Condition 0 & 2"
   ]
  },
  {
   "cell_type": "code",
   "execution_count": 61,
   "id": "f06ad34d",
   "metadata": {},
   "outputs": [
    {
     "data": {
      "text/plain": [
       "Ttest_relResult(statistic=0.5606119105813882, pvalue=0.5862993069206739)"
      ]
     },
     "execution_count": 61,
     "metadata": {},
     "output_type": "execute_result"
    }
   ],
   "source": [
    "ttest_rel(presence_df[presence_df['Condition'] == 0]['SUS'], presence_df[presence_df['Condition'] == 2]['SUS'])\n"
   ]
  },
  {
   "cell_type": "markdown",
   "id": "e917d8c0",
   "metadata": {},
   "source": [
    "Condition 1 & 2"
   ]
  },
  {
   "cell_type": "code",
   "execution_count": 62,
   "id": "faf48173",
   "metadata": {},
   "outputs": [
    {
     "data": {
      "text/plain": [
       "Ttest_relResult(statistic=-0.6158817620896669, pvalue=0.5505037155793886)"
      ]
     },
     "execution_count": 62,
     "metadata": {},
     "output_type": "execute_result"
    }
   ],
   "source": [
    "ttest_rel(presence_df[presence_df['Condition'] == 1]['SUS'], presence_df[presence_df['Condition'] == 2]['SUS'])\n"
   ]
  },
  {
   "cell_type": "markdown",
   "id": "a886b86c",
   "metadata": {},
   "source": [
    "## Comparing Means"
   ]
  },
  {
   "cell_type": "code",
   "execution_count": 96,
   "id": "078936cf",
   "metadata": {},
   "outputs": [
    {
     "name": "stdout",
     "output_type": "stream",
     "text": [
      "Mean Teleport Throw  0.11111111111666667\n",
      "Mean Index Finger  0.041666666666666664\n",
      "Mean Telepath  0.097222222225\n"
     ]
    }
   ],
   "source": [
    "sus_teleport_throw_mean = presence_df[presence_df['Condition'] == 0]['SUS'].mean()\n",
    "sus_index_finger_mean = presence_df[presence_df['Condition'] == 1]['SUS'].mean()\n",
    "sus_telepath_mean = presence_df[presence_df['Condition'] == 2]['SUS'].mean()\n",
    "print(\"Mean Teleport Throw \",sus_teleport_throw_mean)\n",
    "print(\"Mean Index Finger \", sus_index_finger_mean)\n",
    "print(\"Mean Telepath \", sus_telepath_mean)"
   ]
  },
  {
   "cell_type": "markdown",
   "id": "3c5f56e0",
   "metadata": {},
   "source": [
    "# Simulator Sickness Questionaire\n",
    "\n",
    "## Hypothese\n",
    "Eine der Techniken erzeugt mehr Simulator Sickness als die anderen beiden. \n",
    "\n",
    "## Null-Hypothese\n",
    "Keine der Techniken erzeugt mehr Simulator Sickness als die anderen. "
   ]
  },
  {
   "cell_type": "code",
   "execution_count": 7,
   "id": "4e8adfc4",
   "metadata": {},
   "outputs": [],
   "source": [
    "ssq_df = pd.read_csv(\"./Vorbereitete Daten/SSQ.csv\")"
   ]
  },
  {
   "cell_type": "code",
   "execution_count": 8,
   "id": "46654485",
   "metadata": {},
   "outputs": [
    {
     "data": {
      "text/html": [
       "<div>\n",
       "<style scoped>\n",
       "    .dataframe tbody tr th:only-of-type {\n",
       "        vertical-align: middle;\n",
       "    }\n",
       "\n",
       "    .dataframe tbody tr th {\n",
       "        vertical-align: top;\n",
       "    }\n",
       "\n",
       "    .dataframe thead th {\n",
       "        text-align: right;\n",
       "    }\n",
       "</style>\n",
       "<table border=\"1\" class=\"dataframe\">\n",
       "  <thead>\n",
       "    <tr style=\"text-align: right;\">\n",
       "      <th></th>\n",
       "      <th>Person</th>\n",
       "      <th>Condition</th>\n",
       "      <th>N</th>\n",
       "      <th>O</th>\n",
       "      <th>D</th>\n",
       "      <th>TS</th>\n",
       "    </tr>\n",
       "  </thead>\n",
       "  <tbody>\n",
       "    <tr>\n",
       "      <th>0</th>\n",
       "      <td>1</td>\n",
       "      <td>0</td>\n",
       "      <td>38.16</td>\n",
       "      <td>53.06</td>\n",
       "      <td>97.44</td>\n",
       "      <td>67.32</td>\n",
       "    </tr>\n",
       "    <tr>\n",
       "      <th>1</th>\n",
       "      <td>2</td>\n",
       "      <td>0</td>\n",
       "      <td>9.54</td>\n",
       "      <td>15.16</td>\n",
       "      <td>41.76</td>\n",
       "      <td>22.44</td>\n",
       "    </tr>\n",
       "    <tr>\n",
       "      <th>2</th>\n",
       "      <td>3</td>\n",
       "      <td>0</td>\n",
       "      <td>0.00</td>\n",
       "      <td>15.16</td>\n",
       "      <td>13.92</td>\n",
       "      <td>11.22</td>\n",
       "    </tr>\n",
       "    <tr>\n",
       "      <th>3</th>\n",
       "      <td>4</td>\n",
       "      <td>0</td>\n",
       "      <td>0.00</td>\n",
       "      <td>7.58</td>\n",
       "      <td>13.92</td>\n",
       "      <td>7.48</td>\n",
       "    </tr>\n",
       "    <tr>\n",
       "      <th>4</th>\n",
       "      <td>5</td>\n",
       "      <td>0</td>\n",
       "      <td>19.08</td>\n",
       "      <td>7.58</td>\n",
       "      <td>0.00</td>\n",
       "      <td>11.22</td>\n",
       "    </tr>\n",
       "  </tbody>\n",
       "</table>\n",
       "</div>"
      ],
      "text/plain": [
       "   Person  Condition      N      O      D     TS\n",
       "0       1          0  38.16  53.06  97.44  67.32\n",
       "1       2          0   9.54  15.16  41.76  22.44\n",
       "2       3          0   0.00  15.16  13.92  11.22\n",
       "3       4          0   0.00   7.58  13.92   7.48\n",
       "4       5          0  19.08   7.58   0.00  11.22"
      ]
     },
     "execution_count": 8,
     "metadata": {},
     "output_type": "execute_result"
    }
   ],
   "source": [
    "ssq_df.head()"
   ]
  },
  {
   "cell_type": "markdown",
   "id": "0e010dfe",
   "metadata": {},
   "source": [
    "Prüfen, ob die Daten normalverteilt sind."
   ]
  },
  {
   "cell_type": "code",
   "execution_count": 9,
   "id": "de30f35b",
   "metadata": {},
   "outputs": [
    {
     "data": {
      "text/plain": [
       "ShapiroResult(statistic=0.8183797001838684, pvalue=3.856932744383812e-05)"
      ]
     },
     "execution_count": 9,
     "metadata": {},
     "output_type": "execute_result"
    }
   ],
   "source": [
    "shapiro(ssq_df['TS'])"
   ]
  },
  {
   "cell_type": "markdown",
   "id": "97d77a52",
   "metadata": {},
   "source": [
    "Da der Wert kleiner als 0.05 ist, sind die Daten nicht normalverteilt. "
   ]
  },
  {
   "cell_type": "code",
   "execution_count": 10,
   "id": "f19a6e32",
   "metadata": {},
   "outputs": [
    {
     "data": {
      "text/plain": [
       "Text(0.5, 1.0, 'Histogram of SSQ Score Data')"
      ]
     },
     "execution_count": 10,
     "metadata": {},
     "output_type": "execute_result"
    },
    {
     "data": {
      "image/png": "[encoded data removed]",
      "text/plain": [
       "<Figure size 432x288 with 1 Axes>"
      ]
     },
     "metadata": {
      "needs_background": "light"
     },
     "output_type": "display_data"
    }
   ],
   "source": [
    "plt.hist(ssq_df['TS'])\n",
    "plt.title(\"Histogram of SSQ Score Data\")"
   ]
  },
  {
   "cell_type": "markdown",
   "id": "9bd1ed1c",
   "metadata": {},
   "source": [
    "## Friedmann-Test"
   ]
  },
  {
   "cell_type": "code",
   "execution_count": 11,
   "id": "9a4e68ef",
   "metadata": {},
   "outputs": [],
   "source": [
    "teleport_throw_df_ssq = ssq_df.loc[ssq_df['Condition'] == 0]\n",
    "index_finger_df_ssq = ssq_df.loc[ssq_df['Condition'] == 1]\n",
    "telepath_df_ssq = ssq_df.loc[ssq_df['Condition'] == 2]"
   ]
  },
  {
   "cell_type": "code",
   "execution_count": 69,
   "id": "b49fac04",
   "metadata": {},
   "outputs": [
    {
     "data": {
      "text/plain": [
       "FriedmanchisquareResult(statistic=0.18181818181818182, pvalue=0.9131007162822623)"
      ]
     },
     "execution_count": 69,
     "metadata": {},
     "output_type": "execute_result"
    }
   ],
   "source": [
    "friedmanchisquare(telepath_df_ssq['TS'], index_finger_df_ssq['TS'], telepath_df_ssq['TS'])"
   ]
  },
  {
   "cell_type": "markdown",
   "id": "c2c89cdf",
   "metadata": {},
   "source": [
    "Auch hier können wir keinen signifikanten Unterschied zwischen den Conditions feststellen. "
   ]
  },
  {
   "cell_type": "markdown",
   "id": "a57edce3",
   "metadata": {},
   "source": [
    "## Paired T-Test"
   ]
  },
  {
   "cell_type": "markdown",
   "id": "a4dece7b",
   "metadata": {},
   "source": [
    "Condition 0 & 1"
   ]
  },
  {
   "cell_type": "code",
   "execution_count": 65,
   "id": "0766635e",
   "metadata": {},
   "outputs": [
    {
     "data": {
      "text/plain": [
       "Ttest_relResult(statistic=0.7320306445336354, pvalue=0.4794563282688624)"
      ]
     },
     "execution_count": 65,
     "metadata": {},
     "output_type": "execute_result"
    }
   ],
   "source": [
    "ttest_rel(ssq_df[ssq_df['Condition'] == 0]['TS'], ssq_df[ssq_df['Condition'] == 1]['TS'])\n"
   ]
  },
  {
   "cell_type": "markdown",
   "id": "249d2311",
   "metadata": {},
   "source": [
    "Condition 0 & 2"
   ]
  },
  {
   "cell_type": "code",
   "execution_count": 70,
   "id": "b607b376",
   "metadata": {},
   "outputs": [
    {
     "data": {
      "text/plain": [
       "Ttest_relResult(statistic=-0.13885723663089275, pvalue=0.8920724943633306)"
      ]
     },
     "execution_count": 70,
     "metadata": {},
     "output_type": "execute_result"
    }
   ],
   "source": [
    "ttest_rel(ssq_df[ssq_df['Condition'] == 0]['TS'], ssq_df[ssq_df['Condition'] == 2]['TS'])\n"
   ]
  },
  {
   "cell_type": "markdown",
   "id": "ac1755f0",
   "metadata": {},
   "source": [
    "Condition 1 & 2"
   ]
  },
  {
   "cell_type": "code",
   "execution_count": 71,
   "id": "05a68d93",
   "metadata": {},
   "outputs": [
    {
     "data": {
      "text/plain": [
       "Ttest_relResult(statistic=-0.7219101198180631, pvalue=0.4854130594471644)"
      ]
     },
     "execution_count": 71,
     "metadata": {},
     "output_type": "execute_result"
    }
   ],
   "source": [
    "ttest_rel(ssq_df[ssq_df['Condition'] == 1]['TS'], ssq_df[ssq_df['Condition'] == 2]['TS'])\n"
   ]
  },
  {
   "cell_type": "markdown",
   "id": "f320088f",
   "metadata": {},
   "source": [
    "## Comparing Means"
   ]
  },
  {
   "cell_type": "code",
   "execution_count": 95,
   "id": "38810b81",
   "metadata": {},
   "outputs": [
    {
     "name": "stdout",
     "output_type": "stream",
     "text": [
      "Mean Teleport Throw  30.855000000000004\n",
      "Mean Index Finger  23.686666666666667\n",
      "Mean Telepath  32.10166666666667\n"
     ]
    }
   ],
   "source": [
    "ssq_teleport_throw_mean = ssq_df[ssq_df['Condition'] == 0]['TS'].mean()\n",
    "ssq_index_finger_mean = ssq_df[ssq_df['Condition'] == 1]['TS'].mean()\n",
    "ssq_telepath_mean = ssq_df[ssq_df['Condition'] == 2]['TS'].mean()\n",
    "print(\"Mean Teleport Throw \",ssq_teleport_throw_mean)\n",
    "print(\"Mean Index Finger \", ssq_index_finger_mean)\n",
    "print(\"Mean Telepath \", ssq_telepath_mean)"
   ]
  },
  {
   "cell_type": "markdown",
   "id": "e7510287",
   "metadata": {},
   "source": [
    "# SUS Usability Results\n",
    "\n",
    "## Hypothese\n",
    "Midnestens eine der Techniken weist eine höhere Usability auf, als die anderen. \n",
    "\n",
    "## Null-Hypothese\n",
    "Keine der Techniken weist eine höhere Usability auf, als die anderen. "
   ]
  },
  {
   "cell_type": "code",
   "execution_count": 13,
   "id": "6890cabb",
   "metadata": {},
   "outputs": [],
   "source": [
    "usability_df = pd.read_csv(\"./Vorbereitete Daten/SUS Usability.csv\")"
   ]
  },
  {
   "cell_type": "code",
   "execution_count": 14,
   "id": "e0ad22a9",
   "metadata": {},
   "outputs": [
    {
     "data": {
      "text/html": [
       "<div>\n",
       "<style scoped>\n",
       "    .dataframe tbody tr th:only-of-type {\n",
       "        vertical-align: middle;\n",
       "    }\n",
       "\n",
       "    .dataframe tbody tr th {\n",
       "        vertical-align: top;\n",
       "    }\n",
       "\n",
       "    .dataframe thead th {\n",
       "        text-align: right;\n",
       "    }\n",
       "</style>\n",
       "<table border=\"1\" class=\"dataframe\">\n",
       "  <thead>\n",
       "    <tr style=\"text-align: right;\">\n",
       "      <th></th>\n",
       "      <th>Person</th>\n",
       "      <th>Condition</th>\n",
       "      <th>Score</th>\n",
       "    </tr>\n",
       "  </thead>\n",
       "  <tbody>\n",
       "    <tr>\n",
       "      <th>0</th>\n",
       "      <td>1</td>\n",
       "      <td>0</td>\n",
       "      <td>42.5</td>\n",
       "    </tr>\n",
       "    <tr>\n",
       "      <th>1</th>\n",
       "      <td>2</td>\n",
       "      <td>0</td>\n",
       "      <td>67.5</td>\n",
       "    </tr>\n",
       "    <tr>\n",
       "      <th>2</th>\n",
       "      <td>3</td>\n",
       "      <td>0</td>\n",
       "      <td>77.5</td>\n",
       "    </tr>\n",
       "    <tr>\n",
       "      <th>3</th>\n",
       "      <td>4</td>\n",
       "      <td>0</td>\n",
       "      <td>72.5</td>\n",
       "    </tr>\n",
       "    <tr>\n",
       "      <th>4</th>\n",
       "      <td>5</td>\n",
       "      <td>0</td>\n",
       "      <td>52.5</td>\n",
       "    </tr>\n",
       "  </tbody>\n",
       "</table>\n",
       "</div>"
      ],
      "text/plain": [
       "   Person  Condition  Score\n",
       "0       1          0   42.5\n",
       "1       2          0   67.5\n",
       "2       3          0   77.5\n",
       "3       4          0   72.5\n",
       "4       5          0   52.5"
      ]
     },
     "execution_count": 14,
     "metadata": {},
     "output_type": "execute_result"
    }
   ],
   "source": [
    "usability_df.head()"
   ]
  },
  {
   "cell_type": "markdown",
   "id": "998fd4a9",
   "metadata": {},
   "source": [
    "Prüfen ob die Daten normalverteilt sind"
   ]
  },
  {
   "cell_type": "code",
   "execution_count": 15,
   "id": "c05f97dd",
   "metadata": {},
   "outputs": [
    {
     "data": {
      "text/plain": [
       "ShapiroResult(statistic=0.9667107462882996, pvalue=0.3426290452480316)"
      ]
     },
     "execution_count": 15,
     "metadata": {},
     "output_type": "execute_result"
    }
   ],
   "source": [
    "shapiro(usability_df['Score'])"
   ]
  },
  {
   "cell_type": "markdown",
   "id": "6f11ed79",
   "metadata": {},
   "source": [
    "Da der Wert größer als 0.05 ist, sind die Daten normalverteilt. "
   ]
  },
  {
   "cell_type": "code",
   "execution_count": 16,
   "id": "a673d48e",
   "metadata": {},
   "outputs": [
    {
     "data": {
      "text/plain": [
       "Text(0.5, 1.0, 'Histogram of SUS Usability Score Data')"
      ]
     },
     "execution_count": 16,
     "metadata": {},
     "output_type": "execute_result"
    },
    {
     "data": {
      "image/png": "[encoded data removed]",
      "text/plain": [
       "<Figure size 432x288 with 1 Axes>"
      ]
     },
     "metadata": {
      "needs_background": "light"
     },
     "output_type": "display_data"
    }
   ],
   "source": [
    "plt.hist(usability_df['Score'])\n",
    "plt.title(\"Histogram of SUS Usability Score Data\")"
   ]
  },
  {
   "cell_type": "code",
   "execution_count": 17,
   "id": "2437877f",
   "metadata": {},
   "outputs": [
    {
     "data": {
      "image/png": "[encoded data removed]",
      "text/plain": [
       "<Figure size 432x288 with 1 Axes>"
      ]
     },
     "metadata": {
      "needs_background": "light"
     },
     "output_type": "display_data"
    }
   ],
   "source": [
    "plot_df = usability_df.drop(columns=['Person'])\n",
    "plot_df.head()\n",
    "#fig, ax = plt.subplot()\n",
    "ax = plot_df.boxplot(\n",
    "    \n",
    "    by='Condition'\n",
    "\n",
    ")\n"
   ]
  },
  {
   "cell_type": "markdown",
   "id": "c2092227",
   "metadata": {},
   "source": [
    "## Performing Anova repeated measures "
   ]
  },
  {
   "cell_type": "code",
   "execution_count": 29,
   "id": "fba39f00",
   "metadata": {},
   "outputs": [],
   "source": [
    "from statsmodels.stats.anova import AnovaRM"
   ]
  },
  {
   "cell_type": "code",
   "execution_count": 30,
   "id": "e2cb1f38",
   "metadata": {},
   "outputs": [],
   "source": [
    "anova = AnovaRM(data=usability_df, depvar='Score', subject='Person', within=['Condition']).fit()"
   ]
  },
  {
   "cell_type": "code",
   "execution_count": 20,
   "id": "f5ac431b",
   "metadata": {},
   "outputs": [
    {
     "name": "stdout",
     "output_type": "stream",
     "text": [
      "                 Anova\n",
      "=======================================\n",
      "          F Value Num DF  Den DF Pr > F\n",
      "---------------------------------------\n",
      "Condition  0.9521 2.0000 22.0000 0.4013\n",
      "=======================================\n",
      "\n"
     ]
    }
   ],
   "source": [
    "print(anova)"
   ]
  },
  {
   "cell_type": "markdown",
   "id": "ea9ebd68",
   "metadata": {},
   "source": [
    "Der p-Wert größer ist als 0.05. Deshalb kann die Null-Hypothese, dass es einen signifikanten Unterschied zwischen den Locomotion-Techniken gibt, nicht abgelehnt werden. "
   ]
  },
  {
   "cell_type": "markdown",
   "id": "ae9200b8",
   "metadata": {},
   "source": [
    "## Comparing Means"
   ]
  },
  {
   "cell_type": "code",
   "execution_count": 93,
   "id": "ed348a81",
   "metadata": {},
   "outputs": [
    {
     "name": "stdout",
     "output_type": "stream",
     "text": [
      "Mean Teleport Throw  66.66666666666667\n",
      "Mean Index Finger  59.375\n",
      "Mean Telepath  61.458333333333336\n"
     ]
    }
   ],
   "source": [
    "usability_teleport_throw_mean = usability_df[usability_df['Condition'] == 0]['Score'].mean()\n",
    "usability_index_finger_mean = usability_df[usability_df['Condition'] == 1]['Score'].mean()\n",
    "usability_telepath_mean = usability_df[usability_df['Condition'] == 2]['Score'].mean()\n",
    "print(\"Mean Teleport Throw \",usability_teleport_throw_mean)\n",
    "print(\"Mean Index Finger \", usability_index_finger_mean)\n",
    "print(\"Mean Telepath \", usability_telepath_mean)"
   ]
  },
  {
   "cell_type": "markdown",
   "id": "505317e9",
   "metadata": {},
   "source": [
    "# NASA TLX\n",
    "Hypothese: Eine der Techniken weißt einen signifikant anderen Workload auf\n",
    "Null-Hypothese: Keine der Techniken weißt einen signifikant anderen Workload auf"
   ]
  },
  {
   "cell_type": "code",
   "execution_count": 45,
   "id": "79c47877",
   "metadata": {},
   "outputs": [],
   "source": [
    "nasa_raw_tlx_df = pd.read_csv(\"./Vorbereitete Daten/NASA TLX.csv\")"
   ]
  },
  {
   "cell_type": "code",
   "execution_count": 49,
   "id": "4b77a3c8",
   "metadata": {},
   "outputs": [
    {
     "data": {
      "text/plain": [
       "ShapiroResult(statistic=0.9845640063285828, pvalue=0.8852656483650208)"
      ]
     },
     "execution_count": 49,
     "metadata": {},
     "output_type": "execute_result"
    }
   ],
   "source": [
    "shapiro(nasa_raw_tlx_df['Score'])"
   ]
  },
  {
   "cell_type": "markdown",
   "id": "c300d6f1",
   "metadata": {},
   "source": [
    "Da der Wert größer als 0.05 ist, sind die Daten normalverteilt. "
   ]
  },
  {
   "cell_type": "code",
   "execution_count": 78,
   "id": "ecd83e7c",
   "metadata": {},
   "outputs": [
    {
     "data": {
      "text/plain": [
       "Text(0.5, 1.0, 'Histogram of NASA RAW TLX Score Data')"
      ]
     },
     "execution_count": 78,
     "metadata": {},
     "output_type": "execute_result"
    },
    {
     "data": {
      "image/png": "[encoded data removed]",
      "text/plain": [
       "<Figure size 432x288 with 1 Axes>"
      ]
     },
     "metadata": {
      "needs_background": "light"
     },
     "output_type": "display_data"
    }
   ],
   "source": [
    "plt.hist(nasa_raw_tlx_df['Score'])\n",
    "plt.title(\"Histogram of NASA RAW TLX Score Data\")"
   ]
  },
  {
   "cell_type": "markdown",
   "id": "b1978eed",
   "metadata": {},
   "source": [
    "## Anova Repeated Measures"
   ]
  },
  {
   "cell_type": "code",
   "execution_count": 52,
   "id": "43d39677",
   "metadata": {},
   "outputs": [
    {
     "name": "stdout",
     "output_type": "stream",
     "text": [
      "                 Anova\n",
      "=======================================\n",
      "          F Value Num DF  Den DF Pr > F\n",
      "---------------------------------------\n",
      "Condition  1.3849 2.0000 22.0000 0.2713\n",
      "=======================================\n",
      "\n"
     ]
    }
   ],
   "source": [
    "from statsmodels.stats.anova import AnovaRM\n",
    "nasa_tlx_anova = AnovaRM(data=nasa_raw_tlx_df, depvar='Score', subject='Person', within=['Condition']).fit()\n",
    "print(nasa_tlx_anova)"
   ]
  },
  {
   "cell_type": "markdown",
   "id": "4a881a90",
   "metadata": {},
   "source": [
    "### Performing T Test"
   ]
  },
  {
   "cell_type": "markdown",
   "id": "65e068ee",
   "metadata": {},
   "source": [
    "Condition 0 & 1"
   ]
  },
  {
   "cell_type": "code",
   "execution_count": 56,
   "id": "b198f3cc",
   "metadata": {},
   "outputs": [
    {
     "data": {
      "text/plain": [
       "Ttest_relResult(statistic=0.687866503802132, pvalue=0.5057829727346829)"
      ]
     },
     "execution_count": 56,
     "metadata": {},
     "output_type": "execute_result"
    }
   ],
   "source": [
    "ttest_rel(nasa_raw_tlx_df[nasa_raw_tlx_df['Condition'] == 0]['Score'], nasa_raw_tlx_df[nasa_raw_tlx_df['Condition'] == 1]['Score'])\n"
   ]
  },
  {
   "cell_type": "markdown",
   "id": "66e9aa77",
   "metadata": {},
   "source": [
    "Condition 0 & 2"
   ]
  },
  {
   "cell_type": "code",
   "execution_count": 57,
   "id": "f386e8e4",
   "metadata": {},
   "outputs": [
    {
     "data": {
      "text/plain": [
       "Ttest_relResult(statistic=1.8243091813731829, pvalue=0.09536087947792626)"
      ]
     },
     "execution_count": 57,
     "metadata": {},
     "output_type": "execute_result"
    }
   ],
   "source": [
    "ttest_rel(nasa_raw_tlx_df[nasa_raw_tlx_df['Condition'] == 0]['Score'], nasa_raw_tlx_df[nasa_raw_tlx_df['Condition'] == 2]['Score'])\n"
   ]
  },
  {
   "cell_type": "markdown",
   "id": "e22a1fc7",
   "metadata": {},
   "source": [
    "Condition 1 & 2"
   ]
  },
  {
   "cell_type": "code",
   "execution_count": 91,
   "id": "99eb5654",
   "metadata": {},
   "outputs": [
    {
     "data": {
      "text/plain": [
       "Ttest_relResult(statistic=0.9699611206569547, pvalue=0.3529104583165513)"
      ]
     },
     "execution_count": 91,
     "metadata": {},
     "output_type": "execute_result"
    }
   ],
   "source": [
    "ttest_rel(nasa_raw_tlx_df[nasa_raw_tlx_df['Condition'] == 1]['Score'], nasa_raw_tlx_df[nasa_raw_tlx_df['Condition'] == 2]['Score'])\n"
   ]
  },
  {
   "cell_type": "markdown",
   "id": "dde16073",
   "metadata": {},
   "source": [
    "## Printing Means directly"
   ]
  },
  {
   "cell_type": "code",
   "execution_count": 92,
   "id": "110d0f02",
   "metadata": {},
   "outputs": [
    {
     "name": "stdout",
     "output_type": "stream",
     "text": [
      "Mean Teleport Throw  66.0\n",
      "Mean Index Finger  62.333333333333336\n",
      "Mean Telepath  58.5\n"
     ]
    }
   ],
   "source": [
    "nasa_teleport_throw_mean = nasa_raw_tlx_df[nasa_raw_tlx_df['Condition'] == 0]['Score'].mean()\n",
    "nasa_index_finger_mean = nasa_raw_tlx_df[nasa_raw_tlx_df['Condition'] == 1]['Score'].mean()\n",
    "nasa_telepath_mean = nasa_raw_tlx_df[nasa_raw_tlx_df['Condition'] == 2]['Score'].mean()\n",
    "print(\"Mean Teleport Throw \",nasa_teleport_throw_mean)\n",
    "print(\"Mean Index Finger \", nasa_index_finger_mean)\n",
    "print(\"Mean Telepath \", nasa_telepath_mean)"
   ]
  },
  {
   "cell_type": "markdown",
   "id": "39615272",
   "metadata": {},
   "source": [
    "# HCI Final Question"
   ]
  },
  {
   "cell_type": "markdown",
   "id": "f40db250",
   "metadata": {},
   "source": [
    "Hypothese: Es gibt einen Signifikanten unterschied, darin, ob Menschen die Technik gerne benutzen\n",
    "Null-Hypothese: es gibt keinen Signifikanten unterschied"
   ]
  },
  {
   "cell_type": "code",
   "execution_count": 80,
   "id": "80e7e673",
   "metadata": {},
   "outputs": [],
   "source": [
    "hci_final_df = pd.read_csv(\"./Vorbereitete Daten/HCI Final Question.csv\")"
   ]
  },
  {
   "cell_type": "code",
   "execution_count": 81,
   "id": "0447d69a",
   "metadata": {},
   "outputs": [
    {
     "data": {
      "text/html": [
       "<div>\n",
       "<style scoped>\n",
       "    .dataframe tbody tr th:only-of-type {\n",
       "        vertical-align: middle;\n",
       "    }\n",
       "\n",
       "    .dataframe tbody tr th {\n",
       "        vertical-align: top;\n",
       "    }\n",
       "\n",
       "    .dataframe thead th {\n",
       "        text-align: right;\n",
       "    }\n",
       "</style>\n",
       "<table border=\"1\" class=\"dataframe\">\n",
       "  <thead>\n",
       "    <tr style=\"text-align: right;\">\n",
       "      <th></th>\n",
       "      <th>Person</th>\n",
       "      <th>Condition</th>\n",
       "      <th>Score</th>\n",
       "    </tr>\n",
       "  </thead>\n",
       "  <tbody>\n",
       "    <tr>\n",
       "      <th>0</th>\n",
       "      <td>1</td>\n",
       "      <td>0</td>\n",
       "      <td>2</td>\n",
       "    </tr>\n",
       "    <tr>\n",
       "      <th>1</th>\n",
       "      <td>2</td>\n",
       "      <td>0</td>\n",
       "      <td>5</td>\n",
       "    </tr>\n",
       "    <tr>\n",
       "      <th>2</th>\n",
       "      <td>3</td>\n",
       "      <td>0</td>\n",
       "      <td>4</td>\n",
       "    </tr>\n",
       "    <tr>\n",
       "      <th>3</th>\n",
       "      <td>4</td>\n",
       "      <td>0</td>\n",
       "      <td>4</td>\n",
       "    </tr>\n",
       "    <tr>\n",
       "      <th>4</th>\n",
       "      <td>5</td>\n",
       "      <td>0</td>\n",
       "      <td>2</td>\n",
       "    </tr>\n",
       "  </tbody>\n",
       "</table>\n",
       "</div>"
      ],
      "text/plain": [
       "   Person  Condition  Score\n",
       "0       1          0      2\n",
       "1       2          0      5\n",
       "2       3          0      4\n",
       "3       4          0      4\n",
       "4       5          0      2"
      ]
     },
     "execution_count": 81,
     "metadata": {},
     "output_type": "execute_result"
    }
   ],
   "source": [
    "hci_final_df.head()"
   ]
  },
  {
   "cell_type": "markdown",
   "id": "46f75bc1",
   "metadata": {},
   "source": [
    "## Shapiro Wilk Test"
   ]
  },
  {
   "cell_type": "code",
   "execution_count": 82,
   "id": "c7c495a9",
   "metadata": {},
   "outputs": [
    {
     "data": {
      "text/plain": [
       "ShapiroResult(statistic=0.8828779458999634, pvalue=0.001199571881443262)"
      ]
     },
     "execution_count": 82,
     "metadata": {},
     "output_type": "execute_result"
    }
   ],
   "source": [
    "shapiro(hci_final_df['Score'])"
   ]
  },
  {
   "cell_type": "markdown",
   "id": "cfd7601b",
   "metadata": {},
   "source": [
    "Daten sind **normalverteilt**"
   ]
  },
  {
   "cell_type": "code",
   "execution_count": 83,
   "id": "a9d9ada5",
   "metadata": {},
   "outputs": [
    {
     "data": {
      "text/plain": [
       "Text(0.5, 1.0, 'Histogram of Final Question')"
      ]
     },
     "execution_count": 83,
     "metadata": {},
     "output_type": "execute_result"
    },
    {
     "data": {
      "image/png": "[encoded data removed]",
      "text/plain": [
       "<Figure size 432x288 with 1 Axes>"
      ]
     },
     "metadata": {
      "needs_background": "light"
     },
     "output_type": "display_data"
    }
   ],
   "source": [
    "plt.hist(hci_final_df['Score'])\n",
    "plt.title(\"Histogram of Final Question\")"
   ]
  },
  {
   "cell_type": "markdown",
   "id": "67813fcf",
   "metadata": {},
   "source": [
    "## Anova repeated measures\n"
   ]
  },
  {
   "cell_type": "code",
   "execution_count": 85,
   "id": "8ff7c4d7",
   "metadata": {},
   "outputs": [
    {
     "name": "stdout",
     "output_type": "stream",
     "text": [
      "                 Anova\n",
      "=======================================\n",
      "          F Value Num DF  Den DF Pr > F\n",
      "---------------------------------------\n",
      "Condition  0.0242 2.0000 22.0000 0.9761\n",
      "=======================================\n",
      "\n"
     ]
    }
   ],
   "source": [
    "from statsmodels.stats.anova import AnovaRM\n",
    "hci_final_anova = AnovaRM(data=hci_final_df, depvar='Score', subject='Person', within=['Condition']).fit()\n",
    "print(hci_final_anova)"
   ]
  },
  {
   "cell_type": "markdown",
   "id": "6301ed36",
   "metadata": {},
   "source": [
    "Auch hier kein signifikanter Unetrschied"
   ]
  },
  {
   "cell_type": "code",
   "execution_count": 86,
   "id": "1fc31860",
   "metadata": {},
   "outputs": [
    {
     "data": {
      "image/png": "[encoded data removed]",
      "text/plain": [
       "<Figure size 432x288 with 1 Axes>"
      ]
     },
     "metadata": {
      "needs_background": "light"
     },
     "output_type": "display_data"
    }
   ],
   "source": [
    "plot_final_df = hci_final_df.drop(columns=['Person'])\n",
    "plot_final_df.head()\n",
    "#fig, ax = plt.subplot()\n",
    "ax = plot_final_df.boxplot(\n",
    "    \n",
    "    by='Condition'\n",
    "\n",
    ")"
   ]
  },
  {
   "cell_type": "code",
   "execution_count": 89,
   "id": "5117e9a6",
   "metadata": {},
   "outputs": [
    {
     "name": "stdout",
     "output_type": "stream",
     "text": [
      "Mean Teleport Throw  3.5\n",
      "Mean Index Finger  3.4166666666666665\n",
      "Mean Telepath  3.5\n"
     ]
    }
   ],
   "source": [
    "teleport_throw_mean = hci_final_df[hci_final_df['Condition'] == 0]['Score'].mean()\n",
    "index_finger_mean = hci_final_df[hci_final_df['Condition'] == 1]['Score'].mean()\n",
    "telepath_mean = hci_final_df[hci_final_df['Condition'] == 2]['Score'].mean()\n",
    "print(\"Mean Teleport Throw \",teleport_throw_mean)\n",
    "print(\"Mean Index Finger \", index_finger_mean)\n",
    "print(\"Mean Telepath \", telepath_mean)"
   ]
  },
  {
   "cell_type": "code",
   "execution_count": null,
   "id": "823d051b",
   "metadata": {},
   "outputs": [],
   "source": []
  }
 ],
 "metadata": {
  "kernelspec": {
   "display_name": "Python 3",
   "language": "python",
   "name": "python3"
  },
  "language_info": {
   "codemirror_mode": {
    "name": "ipython",
    "version": 3
   },
   "file_extension": ".py",
   "mimetype": "text/x-python",
   "name": "python",
   "nbconvert_exporter": "python",
   "pygments_lexer": "ipython3",
   "version": "3.8.8"
  }
 },
 "nbformat": 4,
 "nbformat_minor": 5
}
